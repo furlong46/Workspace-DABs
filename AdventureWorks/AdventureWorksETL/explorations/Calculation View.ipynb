{
 "cells": [
  {
   "cell_type": "code",
   "execution_count": 0,
   "metadata": {
    "application/vnd.databricks.v1+cell": {
     "cellMetadata": {},
     "inputWidgets": {},
     "nuid": "e83b935e-710e-4d92-92ba-cdf6203a5f99",
     "showTitle": false,
     "tableResultSettingsMap": {},
     "title": ""
    }
   },
   "outputs": [],
   "source": [
    "CREATE OR REPLACE VIEW internet_sales_metric_view\n",
    "  WITH METRICS\n",
    "  LANGUAGE YAML\n",
    "  COMMENT 'A Metric View for regional sales metrics.'\n",
    "  AS $$\n",
    "version: 0.1\n",
    "source: adventureworks.adventureworks_dw.fact_internetsales\n",
    "\n",
    "joins:\n",
    "  - name: customer\n",
    "    source: adventureworks.adventureworks_dw.dim_customer\n",
    "    on: Ship_CustomerKey = customer.CustomerKey\n",
    "  - name: date\n",
    "    source: adventureworks.adventureworks_dw.dim_date\n",
    "    on: Ship_DateKey = date.DateKey\n",
    "  - name: product\n",
    "    source: adventureworks.adventureworks_dw.dim_product\n",
    "    on: source.ProductKey = product.ProductKey\n",
    "\n",
    "dimensions:\n",
    "  # internetsales dimensions\n",
    "  - name: Sales Order Number\n",
    "    expr: source.SalesOrderNumber\n",
    "  - name: Sales Order ID\n",
    "    expr: source.SalesOrderID\n",
    "  - name: Sales Order Detail ID\n",
    "    expr: source.SalesOrderDetailID\n",
    "  - name: Order Qty\n",
    "    expr: source.OrderQty\n",
    "  - name: Total Due\n",
    "    expr: source.TotalDue\n",
    "  \n",
    "  # Customer dimensions\n",
    "  - name: Customer ID\n",
    "    expr: customer.CustomerID\n",
    "  - name: AddressID\n",
    "    expr: customer.AddressID\n",
    "  - name: Customer Name\n",
    "    expr: customer.FirstName || ' ' || customer.LastName\n",
    "  - name: City\n",
    "    expr: customer.City\n",
    "  - name: State\n",
    "    expr: customer.StateProvince\n",
    "  - name: Zip Code\n",
    "    expr: customer.PostalCode\n",
    "  - name: Country\n",
    "    expr: customer.CountryRegion\n",
    "  - name: Email\n",
    "    expr: customer.EmailAddress\n",
    "  - name: Phone\n",
    "    expr: customer.Phone\n",
    "\n",
    "  # Date dimensions\n",
    "  - name: Date\n",
    "    expr: date.Date\n",
    "  - name: Day of Week\n",
    "    expr: date.DayofWeek\n",
    "  - name: Year\n",
    "    expr: date.Year\n",
    "  - name: Month\n",
    "    expr: date.YearMonthInt\n",
    "\n",
    "  # Product dimensions\n",
    "  - name: Product ID\n",
    "    expr: product.ProductID\n",
    "  - name: Product Alt Key\n",
    "    expr: product.ProductAlternateKey\n",
    "  - name: Product Name\n",
    "    expr: product.EnglishProductName\n",
    "  - name: Product Description\n",
    "    expr: product.EnglishDescription\n",
    "  - name: Product Color\n",
    "    expr: product.Color\n",
    "  - name: Product Class\n",
    "    expr: product.Class\n",
    "  - name: Product Category ID\n",
    "    expr: product.ProductCategoryID\n",
    "  - name: Product Category\n",
    "    expr: product.ProductCategory\n",
    "\n",
    "measures:\n",
    "  - name: Total Sales\n",
    "    expr: SUM(TotalDue)\n",
    "  - name: Order Quantity\n",
    "    expr: SUM(OrderQty)\n",
    "  - name: Tax\n",
    "    expr: SUM(TaxAmt)\n",
    "  - name: Order Count\n",
    "    expr: COUNT(SalesOrderID)\n",
    "  - name: Average Line Total\n",
    "    expr: AVG(LineTotal)\n",
    "  - name: Distinct Customers\n",
    "    expr: COUNT(DISTINCT Ship_CustomerKey)\n",
    "  - name: Total Sales t30d\n",
    "    expr: SUM(TotalDue)\n",
    "    window:\n",
    "      - order: Date\n",
    "        range: trailing 30 day\n",
    "        semiadditive: last\n",
    " $$;"
   ]
  },
  {
   "cell_type": "code",
   "execution_count": 0,
   "metadata": {
    "application/vnd.databricks.v1+cell": {
     "cellMetadata": {
      "byteLimit": 2048000,
      "rowLimit": 10000
     },
     "inputWidgets": {},
     "nuid": "c462b2d2-2820-4e1b-99e3-8f562cb06470",
     "showTitle": false,
     "tableResultSettingsMap": {
      "0": {
       "dataGridStateBlob": "{\"version\":1,\"tableState\":{\"columnPinning\":{\"left\":[\"#row_number#\"],\"right\":[]},\"columnSizing\":{},\"columnVisibility\":{}},\"settings\":{\"columns\":{\"Total_Sales\":{\"format\":{\"preset\":\"number-preset-currency\",\"config\":{\"type\":\"number-currency\",\"abbreviation\":\"none\",\"decimalPlaces\":{\"type\":\"max\",\"places\":2},\"currencyCode\":\"USD\",\"hideGroupSeparator\":false}}}}},\"syncTimestamp\":1756290641630}",
       "filterBlob": null,
       "queryPlanFiltersBlob": null,
       "tableResultIndex": 0
      }
     },
     "title": ""
    }
   },
   "outputs": [],
   "source": [
    "SELECT \n",
    "    `Product Category`,\n",
    "    `Customer Name`,\n",
    "    measure(`Total Sales`) AS Total_Sales\n",
    "  FROM adventureworks.adventureworks_dw.internet_sales_metric_view\n",
    "  WHERE Month = 202507\n",
    "  GROUP BY ALL"
   ]
  }
 ],
 "metadata": {
  "application/vnd.databricks.v1+notebook": {
   "computePreferences": null,
   "dashboards": [],
   "environmentMetadata": {
    "base_environment": "",
    "environment_version": "3"
   },
   "inputWidgetPreferences": null,
   "language": "sql",
   "notebookMetadata": {
    "pythonIndentUnit": 2
   },
   "notebookName": "Calculation View",
   "widgets": {}
  },
  "language_info": {
   "name": "sql"
  }
 },
 "nbformat": 4,
 "nbformat_minor": 0
}
